{
 "cells": [
  {
   "cell_type": "markdown",
   "metadata": {},
   "source": [
    "## Badanie wpływu szumu na proces uczenia "
   ]
  },
  {
   "cell_type": "code",
   "execution_count": 2,
   "metadata": {},
   "outputs": [],
   "source": [
    "import numpy as np\n",
    "import matplotlib.pyplot as plt\n",
    "from mpl_toolkits.mplot3d import axes3d\n",
    "import pandas as pd\n",
    "from sklearn import svm\n",
    "from sklearn.model_selection import train_test_split, GridSearchCV\n",
    "from sklearn.preprocessing import StandardScaler\n",
    "from sklearn import metrics"
   ]
  },
  {
   "cell_type": "code",
   "execution_count": 3,
   "metadata": {},
   "outputs": [],
   "source": [
    "def fun(x,y):\n",
    "    return np.log10(np.abs(x))*5*np.cos(y)+(0.55*(x+y))"
   ]
  },
  {
   "cell_type": "code",
   "execution_count": 4,
   "metadata": {},
   "outputs": [],
   "source": [
    "x_n = np.outer(np.linspace(-10, 10, 100), np.ones(100))\n",
    "y_n = x_n.copy().T\n",
    "z_n = fun(x_n,y_n)"
   ]
  },
  {
   "cell_type": "code",
   "execution_count": 5,
   "metadata": {},
   "outputs": [],
   "source": [
    "models = [\n",
    "    { 'kernel': 'linear', 'C': 64.76855, 'epsilon': 0.006793}, ##linear_mae\n",
    "    { 'kernel': 'linear', 'C': 21.62282, 'epsilon': 0.01343 }, ##linear_mse\n",
    "    { 'kernel': 'linear', 'C': 6.09208, 'epsilon': 0.00285},##linear_r2\n",
    "    { 'kernel': 'rbf', 'C': 7.89739, 'epsilon': 0.020708, 'gamma': 30.10516},#rbf_mae\n",
    "    { 'kernel': 'rbf', 'C': 7.714452, 'epsilon': 0.01036, 'gamma': 24.57617 }, ##rbf_mse, \n",
    "    {  'kernel': 'rbf', 'C': 62.90105, 'epsilon': 0.00019, 'gamma': 21.73123}, ##rbf_r2\n",
    "    { 'kernel': 'poly', 'C': 98.05169, 'epsilon': 0.01403, 'degree': 6, 'coef0': 9.89688},##poly_mae,\n",
    "    { 'kernel': 'poly', 'C': 52.47482, 'epsilon': 0.00283, 'degree': 7, 'coef0': 9.45739}, ##poly_mse\n",
    "    { 'kernel': 'poly', 'C': 0.34617, 'epsilon': 0.411307, 'degree': 4, 'coef0': 2.2253}, ##poly_r2\n",
    "    { 'kernel': 'sigmoid', 'C': 70.96374, 'epsilon': 1.4122, 'coef0': 0.7384},##sigmoid_mae\n",
    "    { 'kernel': 'sigmoid', 'C': 89.26535, 'epsilon': 0.05399, 'coef0': 7.50992}, ##sigmoid_mse\n",
    "    {'kernel': 'sigmoid', 'C': 50.36861, 'epsilon': 1.50263, 'coef0': 0.87763} ##sigmoid_r2\n",
    "]"
   ]
  },
  {
   "cell_type": "code",
   "execution_count": 6,
   "metadata": {},
   "outputs": [],
   "source": [
    "noise_levels = [0.01, 0.05, 0.1, 0.5, 1.0, 5.0]\n",
    "results = []"
   ]
  },
  {
   "cell_type": "code",
   "execution_count": null,
   "metadata": {},
   "outputs": [
    {
     "name": "stdout",
     "output_type": "stream",
     "text": [
      "[LibSVM]"
     ]
    }
   ],
   "source": [
    "\n",
    "for level in noise_levels:\n",
    "\n",
    "    for params in models: \n",
    "  \n",
    "        noise = np.random.normal(0,level,(100,100))\n",
    "        noised_z = z_n + noise\n",
    "        \n",
    "\n",
    "        Xn = np.column_stack((x_n.flatten(), y_n.flatten()))\n",
    "        yn = noised_z.flatten()\n",
    "\n",
    "        Xn_train, Xn_test, yn_train, yn_test = train_test_split(Xn, yn, test_size=0.1, random_state=85)\n",
    "\n",
    "        Xn_scaler = StandardScaler()\n",
    "        Xn_train = Xn_scaler.fit_transform(Xn_train)\n",
    "        Xn_test = Xn_scaler.transform(Xn_test)\n",
    "\n",
    "        yn_scaler = StandardScaler()\n",
    "        yn_train = yn_scaler.fit_transform(yn_train[:,None])[:,0]\n",
    "        yn_test = yn_scaler.transform(yn_test[:,None])[:,0]\n",
    "    \n",
    "        model = svm.SVR(**params, verbose=2)\n",
    "        model.fit(Xn_train, yn_train)\n",
    "\n",
    "        yn_pred_train = model.predict(Xn_train)\n",
    "        yn_pred_test = model.predict(Xn_test)\n",
    "        \n",
    "        r2_train = model.score(Xn_train, yn_train)\n",
    "        r2_test = model.score(Xn_test, yn_test)\n",
    "        print(f\"R2 na zbiorze trenującym: {r2_train}\")\n",
    "        print(f\"R2 na zbiorze testującym: {r2_test}\")\n",
    "\n",
    "        mse_train = metrics.mean_squared_error(yn_train, yn_pred_train)\n",
    "        mse_test = metrics.mean_squared_error(yn_test, yn_pred_test)\n",
    "\n",
    "        print(f\"MSE na zbiorze trenującym: {mse_train}\")\n",
    "        print(f\"MSE na zbiorze testującym: {mse_test}\")\n",
    "\n",
    "        mae_train = metrics.mean_absolute_error(yn_train, yn_pred_train)\n",
    "        mae_test = metrics.mean_absolute_error(yn_test, yn_pred_test)\n",
    "\n",
    "        print(f\"MAE na zbiorze trenującym: {mae_train}\")\n",
    "        print(f\"MAE na zbiorze testującym: {mae_test}\")\n",
    "        results.append({'params': params, 'noise': level, 'r2_train': r2_train, 'r2_test': r2_test, 'mse_train': mse_train, 'mse_test': mse_test, 'mae_test': mae_test, 'mae_train': mae_train})"
   ]
  },
  {
   "cell_type": "code",
   "execution_count": null,
   "metadata": {},
   "outputs": [],
   "source": [
    "df = pd.DataFrame(results)\n",
    "df.to_csv('./noises_results.csv')"
   ]
  },
  {
   "cell_type": "code",
   "execution_count": null,
   "metadata": {},
   "outputs": [],
   "source": []
  }
 ],
 "metadata": {
  "kernelspec": {
   "display_name": "Python 3",
   "language": "python",
   "name": "python3"
  },
  "language_info": {
   "codemirror_mode": {
    "name": "ipython",
    "version": 3
   },
   "file_extension": ".py",
   "mimetype": "text/x-python",
   "name": "python",
   "nbconvert_exporter": "python",
   "pygments_lexer": "ipython3",
   "version": "3.7.5"
  }
 },
 "nbformat": 4,
 "nbformat_minor": 4
}
